{
 "cells": [
  {
   "cell_type": "markdown",
   "metadata": {},
   "source": [
    "# Pytorch Tutorial"
   ],
   "execution_count": null,
   "outputs": []
  },
  {
   "cell_type": "markdown",
   "metadata": {},
   "source": [
    "Pytorch is a popular deep learning framework and it's easy to get started."
   ],
   "execution_count": null,
   "outputs": []
  },
  {
   "cell_type": "code",
   "execution_count": 2,
   "metadata": {
    "collapsed": true
   },
   "outputs": [],
   "source": [
    "import torch\n",
    "import torch.nn as nn\n",
    "import torch.utils.data as data\n",
    "import torchvision\n",
    "import torchvision.transforms as transforms\n",
    "from tqdm import tqdm\n",
    "import time\n",
    "\n",
    "BATCH_SIZE = 128\n",
    "NUM_EPOCHS = 10\n",
    "device = torch.device(\"cuda\" if torch.cuda.is_available() else \"cpu\")\n",
    "device = torch.device(\"cpu\")"
   ]
  },
  {
   "cell_type": "markdown",
   "metadata": {},
   "source": [
    "First, we read the mnist data, preprocess them and encapsulate them into dataloader form."
   ],
   "execution_count": null,
   "outputs": []
  },
  {
   "cell_type": "code",
   "execution_count": 3,
   "metadata": {
    "collapsed": true
   },
   "outputs": [],
   "source": [
    "# preprocessing\n",
    "normalize = transforms.Normalize(mean=[.5], std=[.5])\n",
    "transform = transforms.Compose([transforms.ToTensor(), normalize])\n",
    "\n",
    "# download and load the data\n",
    "train_dataset = torchvision.datasets.MNIST(root='./mnist/', train=True, transform=transform, download=True)\n",
    "test_dataset = torchvision.datasets.MNIST(root='./mnist/', train=False, transform=transform, download=False)\n",
    "\n",
    "# encapsulate them into dataloader form\n",
    "train_loader = data.DataLoader(train_dataset, batch_size=BATCH_SIZE, shuffle=True, drop_last=True)\n",
    "test_loader = data.DataLoader(test_dataset, batch_size=BATCH_SIZE, shuffle=False, drop_last=True)"
   ]
  },
  {
   "cell_type": "markdown",
   "metadata": {},
   "source": [
    "\n",
    "Then, we define the model, object function and optimizer that we use to classify."
   ],
   "execution_count": null,
   "outputs": []
  },
  {
   "cell_type": "code",
   "execution_count": 4,
   "metadata": {
    "collapsed": true
   },
   "outputs": [],
   "source": [
    "class SimpleNet(nn.Module):\n",
    "\n",
    "    def __init__(self):\n",
    "        super(SimpleNet,self).__init__()\n",
    "        self.conv1 = nn.Sequential(\n",
    "            nn.Conv2d(1,10,5,1,1),\n",
    "            nn.MaxPool2d(2),\n",
    "            nn.ReLU(),\n",
    "            nn.BatchNorm2d(10)\n",
    "        )\n",
    "        self.conv2 = nn.Sequential(\n",
    "            nn.Conv2d(10,20,5,1,1),\n",
    "            nn.MaxPool2d(2),\n",
    "            nn.ReLU(),\n",
    "            nn.BatchNorm2d(20) \n",
    "        )\n",
    "        self.fc1 = nn.Sequential(\n",
    "            nn.Linear(500,60),\n",
    "            nn.Dropout(0.5),\n",
    "            nn.ReLU()\n",
    "        )\n",
    "        self.fc2 = nn.Sequential(\n",
    "            nn.Linear(60,20),\n",
    "            nn.Dropout(0.5),\n",
    "            nn.ReLU()\n",
    "        )\n",
    "        self.fc3 = nn.Linear(20,10)\n",
    "\n",
    "    def forward(self, x):\n",
    "        x = self.conv1(x)\n",
    "        x = self.conv2(x)\n",
    "        x = x.view(-1,500)\n",
    "        x = self.fc1(x)\n",
    "        x = self.fc2(x)\n",
    "        x = self.fc3(x)\n",
    "        return x\n",
    "\n",
    "    \n",
    "model = SimpleNet().to(device)\n",
    "\n",
    "\n",
    "criterion = nn.CrossEntropyLoss().to(device)\n",
    "optimizer = torch.optim.Adam(model.parameters(),lr=0.001,weight_decay=0.0)"
   ]
  },
  {
   "cell_type": "markdown",
   "metadata": {},
   "source": [
    "Next, we can start to train and evaluate!"
   ],
   "execution_count": null,
   "outputs": []
  },
  {
   "cell_type": "code",
   "execution_count": 5,
   "metadata": {
    "collapsed": true,
    "scrolled": true
   },
   "outputs": [
    {
     "output_type": "stream",
     "name": "stderr",
     "text": "100%|██████████| 468/468 [01:05<00:00,  7.18it/s]\n100%|██████████| 468/468 [00:49<00:00,  9.49it/s]\n100%|██████████| 78/78 [00:11<00:00,  7.01it/s]\nepoch 0\nTrain set: Average loss: 0.0006, Accuracy: 58578/60000 (97.630%)\nTest  set: Average loss: 0.0006, Accuracy: 9767/10000 (97.670%)\n100%|██████████| 468/468 [01:05<00:00,  7.12it/s]\n100%|██████████| 468/468 [00:56<00:00,  8.29it/s]\n100%|██████████| 78/78 [00:08<00:00,  9.65it/s]\nepoch 1\nTrain set: Average loss: 0.0004, Accuracy: 59034/60000 (98.390%)\nTest  set: Average loss: 0.0005, Accuracy: 9814/10000 (98.140%)\n100%|██████████| 468/468 [01:05<00:00,  7.13it/s]\n100%|██████████| 468/468 [00:58<00:00,  8.02it/s]\n100%|██████████| 78/78 [00:10<00:00,  7.34it/s]\nepoch 2\nTrain set: Average loss: 0.0004, Accuracy: 59154/60000 (98.590%)\nTest  set: Average loss: 0.0004, Accuracy: 9846/10000 (98.460%)\n100%|██████████| 468/468 [01:07<00:00,  6.90it/s]\n100%|██████████| 468/468 [00:39<00:00, 11.96it/s]\n100%|██████████| 78/78 [00:08<00:00,  9.65it/s]\nepoch 3\nTrain set: Average loss: 0.0003, Accuracy: 59196/60000 (98.660%)\nTest  set: Average loss: 0.0004, Accuracy: 9845/10000 (98.450%)\n100%|██████████| 468/468 [01:04<00:00,  7.21it/s]\n100%|██████████| 468/468 [00:53<00:00,  8.82it/s]\n100%|██████████| 78/78 [00:08<00:00,  8.88it/s]\nepoch 4\nTrain set: Average loss: 0.0002, Accuracy: 59448/60000 (99.080%)\nTest  set: Average loss: 0.0003, Accuracy: 9871/10000 (98.710%)\n100%|██████████| 468/468 [01:05<00:00,  7.14it/s]\n100%|██████████| 468/468 [00:40<00:00, 11.61it/s]\n100%|██████████| 78/78 [00:09<00:00,  7.88it/s]\nepoch 5\nTrain set: Average loss: 0.0002, Accuracy: 59418/60000 (99.030%)\nTest  set: Average loss: 0.0003, Accuracy: 9865/10000 (98.650%)\n100%|██████████| 468/468 [01:08<00:00,  6.79it/s]\n100%|██████████| 468/468 [00:39<00:00, 11.82it/s]\n100%|██████████| 78/78 [00:13<00:00,  5.88it/s]\nepoch 6\nTrain set: Average loss: 0.0002, Accuracy: 59442/60000 (99.070%)\nTest  set: Average loss: 0.0004, Accuracy: 9859/10000 (98.590%)\n100%|██████████| 468/468 [01:08<00:00,  6.82it/s]\n100%|██████████| 468/468 [00:48<00:00,  9.68it/s]\n100%|██████████| 78/78 [00:07<00:00, 10.52it/s]\nepoch 7\nTrain set: Average loss: 0.0002, Accuracy: 59416/60000 (99.027%)\nTest  set: Average loss: 0.0003, Accuracy: 9872/10000 (98.720%)\n100%|██████████| 468/468 [01:04<00:00,  7.28it/s]\n100%|██████████| 468/468 [00:42<00:00, 10.99it/s]\n100%|██████████| 78/78 [00:09<00:00,  8.07it/s]\nepoch 8\nTrain set: Average loss: 0.0002, Accuracy: 59497/60000 (99.162%)\nTest  set: Average loss: 0.0003, Accuracy: 9896/10000 (98.960%)\n100%|██████████| 468/468 [01:06<00:00,  7.01it/s]\n100%|██████████| 468/468 [00:41<00:00, 11.24it/s]\n100%|██████████| 78/78 [00:12<00:00,  6.47it/s]\nepoch 9\nTrain set: Average loss: 0.0002, Accuracy: 59423/60000 (99.038%)\nTest  set: Average loss: 0.0005, Accuracy: 9850/10000 (98.500%)\n"
    }
   ],
   "source": [
    "# train and evaluate\n",
    "for epoch in range(NUM_EPOCHS):\n",
    "    # train\n",
    "    model.train()    \n",
    "    train_loss = 0\n",
    "    correct = 0\n",
    "    for data, target in tqdm(train_loader):\n",
    "        data = data.to(device) \n",
    "        target = target.to(device)\n",
    "        output = model(data)\n",
    "        # sum up batch loss\n",
    "        loss = criterion(output, target).mean()\n",
    "        # get the index of the max log-probability\n",
    "        pred = output.data.max(1, keepdim=True)[1]\n",
    "        # print(pred)\n",
    "        correct += pred.eq(target.data.view_as(pred)).cpu().sum()\n",
    "\n",
    "        optimizer.zero_grad()   \n",
    "        loss.backward()         \n",
    "        optimizer.step()  \n",
    "\n",
    "\n",
    "    # train accuracy\n",
    "    model.eval()\n",
    "    train_loss = 0\n",
    "    train_correct = 0\n",
    "    for data, target in tqdm(train_loader):\n",
    "        data = data.to(device) \n",
    "        target = target.to(device)\n",
    "        output = model(data)\n",
    "        # sum up batch loss\n",
    "        loss = criterion(output, target).mean()\n",
    "        train_loss += loss\n",
    "        # get the index of the max log-probability\n",
    "        pred = output.data.max(1, keepdim=True)[1]\n",
    "        # print(pred)\n",
    "        train_correct += pred.eq(target.data.view_as(pred)).cpu().sum()\n",
    "\n",
    "    train_loss /= len(train_loader.dataset)\n",
    "\n",
    "    # test accuracy\n",
    "    test_loss = 0\n",
    "    test_correct = 0\n",
    "    model.eval()\n",
    "    for data, target in tqdm(test_loader):\n",
    "        data = data.to(device) \n",
    "        target = target.to(device)\n",
    "        output = model(data)\n",
    "        # sum up batch loss\n",
    "        test_loss += criterion(output, target).mean()\n",
    "        # get the index of the max log-probability\n",
    "        pred = output.data.max(1, keepdim=True)[1]\n",
    "        # print(pred)\n",
    "        test_correct += pred.eq(target.data.view_as(pred)).cpu().sum()\n",
    "\n",
    "\n",
    "    test_loss /= len(test_loader.dataset)\n",
    "\n",
    "\n",
    "    print('epoch {}'.format(epoch))\n",
    "    print('Train set: Average loss: {:.4f}, Accuracy: {}/{} ({:.3f}%)'.format(\n",
    "        train_loss, train_correct, len(train_loader.dataset),\n",
    "        100 * float(train_correct) / len(train_loader.dataset)))\n",
    "    print('Test  set: Average loss: {:.4f}, Accuracy: {}/{} ({:.3f}%)'.format(\n",
    "        test_loss, test_correct, len(test_loader.dataset),\n",
    "        100 * float(test_correct) / len(test_loader.dataset)))\n",
    "\n",
    "    torch.cuda.empty_cache()"
   ]
  },
  {
   "cell_type": "markdown",
   "metadata": {},
   "source": [
    "#### Q5:\n",
    "Please print the training and testing accuracy."
   ],
   "execution_count": null,
   "outputs": []
  }
 ],
 "metadata": {
  "kernelspec": {
   "display_name": "Python 3",
   "language": "python",
   "name": "python3"
  },
  "language_info": {
   "codemirror_mode": {
    "name": "ipython",
    "version": 3
   },
   "file_extension": ".py",
   "mimetype": "text/x-python",
   "name": "python",
   "nbconvert_exporter": "python",
   "pygments_lexer": "ipython3",
   "version": "3.6.8-final"
  }
 },
 "nbformat": 4,
 "nbformat_minor": 2
}